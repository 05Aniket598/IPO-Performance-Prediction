{
 "cells": [
  {
   "cell_type": "code",
   "execution_count": 1,
   "id": "7651726f-6dc6-4751-ac61-b84c49d2b9ef",
   "metadata": {},
   "outputs": [],
   "source": [
    "import numpy as np\n",
    "import pandas as pd\n",
    "import seaborn as sns\n",
    "import matplotlib.pyplot as plt\n",
    "import xgboost as xgb\n",
    "import pickle\n",
    "import matplotlib.pyplot as plt\n",
    "from sklearn.preprocessing import StandardScaler\n",
    "from sklearn.linear_model import LogisticRegression \n",
    "from sklearn.ensemble import RandomForestClassifier \n",
    "from sklearn.model_selection import train_test_split\n",
    "from sklearn.metrics import accuracy_score, classification_report,confusion_matrix, ConfusionMatrixDisplay,r2_score"
   ]
  },
  {
   "cell_type": "code",
   "execution_count": 2,
   "id": "42ba6e32-4b83-4f75-9bfe-dc31288bcfea",
   "metadata": {},
   "outputs": [],
   "source": [
    "df = pd.read_csv(r\"C:\\Users\\Aniket\\OneDrive\\Desktop\\Personal\\Projects\\IPO-Performance-Prediction\\Notebooks\\IPO.csv\").copy()\n",
    "df_ = pd.read_csv(r\"C:\\Users\\Aniket\\OneDrive\\Desktop\\Personal\\Projects\\IPO-Performance-Prediction\\Notebooks\\Validate_IPO.csv\").copy()"
   ]
  },
  {
   "cell_type": "code",
   "execution_count": 3,
   "id": "2efa4101-e570-4d7e-9b2b-57e0770c5607",
   "metadata": {},
   "outputs": [],
   "source": [
    "df['listing date'] = pd.to_datetime(df['listing date'])"
   ]
  },
  {
   "cell_type": "code",
   "execution_count": 4,
   "id": "41d93616-3670-4484-bd0f-22d58ead6baa",
   "metadata": {},
   "outputs": [
    {
     "data": {
      "text/html": [
       "<div>\n",
       "<style scoped>\n",
       "    .dataframe tbody tr th:only-of-type {\n",
       "        vertical-align: middle;\n",
       "    }\n",
       "\n",
       "    .dataframe tbody tr th {\n",
       "        vertical-align: top;\n",
       "    }\n",
       "\n",
       "    .dataframe thead th {\n",
       "        text-align: right;\n",
       "    }\n",
       "</style>\n",
       "<table border=\"1\" class=\"dataframe\">\n",
       "  <thead>\n",
       "    <tr style=\"text-align: right;\">\n",
       "      <th></th>\n",
       "      <th>0</th>\n",
       "      <th>1</th>\n",
       "      <th>2</th>\n",
       "      <th>3</th>\n",
       "      <th>4</th>\n",
       "    </tr>\n",
       "  </thead>\n",
       "  <tbody>\n",
       "    <tr>\n",
       "      <th>company</th>\n",
       "      <td>A G Universal</td>\n",
       "      <td>AA Plus Tradelink</td>\n",
       "      <td>AAA Technologies</td>\n",
       "      <td>AB Cotspin</td>\n",
       "      <td>AB Infrabuild</td>\n",
       "    </tr>\n",
       "    <tr>\n",
       "      <th>ltp</th>\n",
       "      <td>60.0</td>\n",
       "      <td>0.9</td>\n",
       "      <td>89.1</td>\n",
       "      <td>409.0</td>\n",
       "      <td>179.4</td>\n",
       "    </tr>\n",
       "    <tr>\n",
       "      <th>market cap(in cr)</th>\n",
       "      <td>32.9</td>\n",
       "      <td>21.4</td>\n",
       "      <td>114.3</td>\n",
       "      <td>671.5</td>\n",
       "      <td>1146.3</td>\n",
       "    </tr>\n",
       "    <tr>\n",
       "      <th>listing open</th>\n",
       "      <td>60.0</td>\n",
       "      <td>16.6</td>\n",
       "      <td>44.5</td>\n",
       "      <td>38.5</td>\n",
       "      <td>29.0</td>\n",
       "    </tr>\n",
       "    <tr>\n",
       "      <th>listing close</th>\n",
       "      <td>60.1</td>\n",
       "      <td>17.5</td>\n",
       "      <td>43.6</td>\n",
       "      <td>40.4</td>\n",
       "      <td>29.1</td>\n",
       "    </tr>\n",
       "    <tr>\n",
       "      <th>issue type</th>\n",
       "      <td>SME</td>\n",
       "      <td>SME</td>\n",
       "      <td>SME</td>\n",
       "      <td>SME</td>\n",
       "      <td>SME</td>\n",
       "    </tr>\n",
       "    <tr>\n",
       "      <th>listing date</th>\n",
       "      <td>2023-04-24 00:00:00</td>\n",
       "      <td>2021-07-22 00:00:00</td>\n",
       "      <td>2020-10-13 00:00:00</td>\n",
       "      <td>2022-01-11 00:00:00</td>\n",
       "      <td>2019-07-11 00:00:00</td>\n",
       "    </tr>\n",
       "    <tr>\n",
       "      <th>issue size (in Cr)</th>\n",
       "      <td>8.7</td>\n",
       "      <td>6.5</td>\n",
       "      <td>10.2</td>\n",
       "      <td>10.1</td>\n",
       "      <td>12.8</td>\n",
       "    </tr>\n",
       "    <tr>\n",
       "      <th>issue price (in rupee)</th>\n",
       "      <td>60.0</td>\n",
       "      <td>18.0</td>\n",
       "      <td>42.0</td>\n",
       "      <td>35.0</td>\n",
       "      <td>29.0</td>\n",
       "    </tr>\n",
       "    <tr>\n",
       "      <th>qib subscription</th>\n",
       "      <td>38.9</td>\n",
       "      <td>38.9</td>\n",
       "      <td>38.9</td>\n",
       "      <td>38.9</td>\n",
       "      <td>38.9</td>\n",
       "    </tr>\n",
       "    <tr>\n",
       "      <th>hni subscription</th>\n",
       "      <td>4.2</td>\n",
       "      <td>0.3</td>\n",
       "      <td>2.5</td>\n",
       "      <td>9.4</td>\n",
       "      <td>1.2</td>\n",
       "    </tr>\n",
       "    <tr>\n",
       "      <th>retail subscription</th>\n",
       "      <td>2.5</td>\n",
       "      <td>2.6</td>\n",
       "      <td>2.3</td>\n",
       "      <td>17.5</td>\n",
       "      <td>0.7</td>\n",
       "    </tr>\n",
       "    <tr>\n",
       "      <th>total subscription</th>\n",
       "      <td>3.4</td>\n",
       "      <td>1.5</td>\n",
       "      <td>2.4</td>\n",
       "      <td>13.5</td>\n",
       "      <td>1.0</td>\n",
       "    </tr>\n",
       "    <tr>\n",
       "      <th>listing gain %</th>\n",
       "      <td>0.0</td>\n",
       "      <td>-7.5</td>\n",
       "      <td>6.0</td>\n",
       "      <td>10.0</td>\n",
       "      <td>0.0</td>\n",
       "    </tr>\n",
       "    <tr>\n",
       "      <th>current gain %</th>\n",
       "      <td>0.1</td>\n",
       "      <td>-51.1</td>\n",
       "      <td>112.1</td>\n",
       "      <td>1068.6</td>\n",
       "      <td>518.8</td>\n",
       "    </tr>\n",
       "    <tr>\n",
       "      <th>lot size</th>\n",
       "      <td>2000</td>\n",
       "      <td>8000</td>\n",
       "      <td>3000</td>\n",
       "      <td>4000</td>\n",
       "      <td>4000</td>\n",
       "    </tr>\n",
       "    <tr>\n",
       "      <th>sector</th>\n",
       "      <td>METALS &amp; MINING</td>\n",
       "      <td>COMMERCIAL SERVICES &amp; SUPPLIES</td>\n",
       "      <td>COMMERCIAL SERVICES &amp; SUPPLIES</td>\n",
       "      <td>TEXTILES APPARELS &amp; ACCESSORIES</td>\n",
       "      <td>CEMENT AND CONSTRUCTION</td>\n",
       "    </tr>\n",
       "    <tr>\n",
       "      <th>industry</th>\n",
       "      <td>IRON &amp; STEEL PRODUCTS</td>\n",
       "      <td>COMMODITY TRADING &amp; DISTRIBUTION</td>\n",
       "      <td>CONSULTING SERVICES</td>\n",
       "      <td>TEXTILES</td>\n",
       "      <td>CONSTRUCTION &amp; ENGINEERING</td>\n",
       "    </tr>\n",
       "    <tr>\n",
       "      <th>minimum_investment_rupee</th>\n",
       "      <td>120000</td>\n",
       "      <td>144000</td>\n",
       "      <td>126000</td>\n",
       "      <td>140000</td>\n",
       "      <td>116000</td>\n",
       "    </tr>\n",
       "    <tr>\n",
       "      <th>subscription_status</th>\n",
       "      <td>Oversubscribed</td>\n",
       "      <td>Oversubscribed</td>\n",
       "      <td>Oversubscribed</td>\n",
       "      <td>Oversubscribed</td>\n",
       "      <td>Undersubscribed</td>\n",
       "    </tr>\n",
       "    <tr>\n",
       "      <th>min_price_range</th>\n",
       "      <td>60.0</td>\n",
       "      <td>18.0</td>\n",
       "      <td>42.0</td>\n",
       "      <td>33.0</td>\n",
       "      <td>29.0</td>\n",
       "    </tr>\n",
       "    <tr>\n",
       "      <th>max_price_range</th>\n",
       "      <td>60.0</td>\n",
       "      <td>18.0</td>\n",
       "      <td>42.0</td>\n",
       "      <td>35.0</td>\n",
       "      <td>29.0</td>\n",
       "    </tr>\n",
       "    <tr>\n",
       "      <th>no_of_share</th>\n",
       "      <td>15.0</td>\n",
       "      <td>36.0</td>\n",
       "      <td>24.0</td>\n",
       "      <td>29.0</td>\n",
       "      <td>44.0</td>\n",
       "    </tr>\n",
       "    <tr>\n",
       "      <th>change_in_cffoa</th>\n",
       "      <td>-30.0</td>\n",
       "      <td>-45.4545</td>\n",
       "      <td>-10.0</td>\n",
       "      <td>-100.0</td>\n",
       "      <td>-83.9623</td>\n",
       "    </tr>\n",
       "    <tr>\n",
       "      <th>change_in_ebitda</th>\n",
       "      <td>88.8889</td>\n",
       "      <td>100.0</td>\n",
       "      <td>933.3333</td>\n",
       "      <td>33.7662</td>\n",
       "      <td>19.2308</td>\n",
       "    </tr>\n",
       "    <tr>\n",
       "      <th>change_in_eps</th>\n",
       "      <td>1200.0</td>\n",
       "      <td>0.0</td>\n",
       "      <td>1500.0</td>\n",
       "      <td>166.6667</td>\n",
       "      <td>400.0</td>\n",
       "    </tr>\n",
       "    <tr>\n",
       "      <th>change_in_net_profit</th>\n",
       "      <td>316.6667</td>\n",
       "      <td>226.9231</td>\n",
       "      <td>1729.3578</td>\n",
       "      <td>187.1795</td>\n",
       "      <td>1106.9767</td>\n",
       "    </tr>\n",
       "    <tr>\n",
       "      <th>change_in_npm_percent</th>\n",
       "      <td>600.0</td>\n",
       "      <td>0.0</td>\n",
       "      <td>2000.0</td>\n",
       "      <td>178.5714</td>\n",
       "      <td>966.6667</td>\n",
       "    </tr>\n",
       "    <tr>\n",
       "      <th>change_in_roce_percent</th>\n",
       "      <td>50.697</td>\n",
       "      <td>129.5597</td>\n",
       "      <td>521.7143</td>\n",
       "      <td>51.5797</td>\n",
       "      <td>-1.1287</td>\n",
       "    </tr>\n",
       "    <tr>\n",
       "      <th>change_in_roe_percent</th>\n",
       "      <td>867.5</td>\n",
       "      <td>125.4717</td>\n",
       "      <td>780.2292</td>\n",
       "      <td>126.1146</td>\n",
       "      <td>579.7101</td>\n",
       "    </tr>\n",
       "    <tr>\n",
       "      <th>change_in_debt_to_equity_ratio</th>\n",
       "      <td>-20.0</td>\n",
       "      <td>-33.3333</td>\n",
       "      <td>-50.0</td>\n",
       "      <td>-21.0526</td>\n",
       "      <td>-19.5122</td>\n",
       "    </tr>\n",
       "    <tr>\n",
       "      <th>CAGR</th>\n",
       "      <td>0.05</td>\n",
       "      <td>-16.3767</td>\n",
       "      <td>16.2273</td>\n",
       "      <td>126.9283</td>\n",
       "      <td>35.4956</td>\n",
       "    </tr>\n",
       "  </tbody>\n",
       "</table>\n",
       "</div>"
      ],
      "text/plain": [
       "                                                    0  \\\n",
       "company                                 A G Universal   \n",
       "ltp                                              60.0   \n",
       "market cap(in cr)                                32.9   \n",
       "listing open                                     60.0   \n",
       "listing close                                    60.1   \n",
       "issue type                                        SME   \n",
       "listing date                      2023-04-24 00:00:00   \n",
       "issue size (in Cr)                                8.7   \n",
       "issue price (in rupee)                           60.0   \n",
       "qib subscription                                 38.9   \n",
       "hni subscription                                  4.2   \n",
       "retail subscription                               2.5   \n",
       "total subscription                                3.4   \n",
       "listing gain %                                    0.0   \n",
       "current gain %                                    0.1   \n",
       "lot size                                         2000   \n",
       "sector                                METALS & MINING   \n",
       "industry                        IRON & STEEL PRODUCTS   \n",
       "minimum_investment_rupee                       120000   \n",
       "subscription_status                    Oversubscribed   \n",
       "min_price_range                                  60.0   \n",
       "max_price_range                                  60.0   \n",
       "no_of_share                                      15.0   \n",
       "change_in_cffoa                                 -30.0   \n",
       "change_in_ebitda                              88.8889   \n",
       "change_in_eps                                  1200.0   \n",
       "change_in_net_profit                         316.6667   \n",
       "change_in_npm_percent                           600.0   \n",
       "change_in_roce_percent                         50.697   \n",
       "change_in_roe_percent                           867.5   \n",
       "change_in_debt_to_equity_ratio                  -20.0   \n",
       "CAGR                                             0.05   \n",
       "\n",
       "                                                               1  \\\n",
       "company                                        AA Plus Tradelink   \n",
       "ltp                                                          0.9   \n",
       "market cap(in cr)                                           21.4   \n",
       "listing open                                                16.6   \n",
       "listing close                                               17.5   \n",
       "issue type                                                   SME   \n",
       "listing date                                 2021-07-22 00:00:00   \n",
       "issue size (in Cr)                                           6.5   \n",
       "issue price (in rupee)                                      18.0   \n",
       "qib subscription                                            38.9   \n",
       "hni subscription                                             0.3   \n",
       "retail subscription                                          2.6   \n",
       "total subscription                                           1.5   \n",
       "listing gain %                                              -7.5   \n",
       "current gain %                                             -51.1   \n",
       "lot size                                                    8000   \n",
       "sector                            COMMERCIAL SERVICES & SUPPLIES   \n",
       "industry                        COMMODITY TRADING & DISTRIBUTION   \n",
       "minimum_investment_rupee                                  144000   \n",
       "subscription_status                               Oversubscribed   \n",
       "min_price_range                                             18.0   \n",
       "max_price_range                                             18.0   \n",
       "no_of_share                                                 36.0   \n",
       "change_in_cffoa                                         -45.4545   \n",
       "change_in_ebitda                                           100.0   \n",
       "change_in_eps                                                0.0   \n",
       "change_in_net_profit                                    226.9231   \n",
       "change_in_npm_percent                                        0.0   \n",
       "change_in_roce_percent                                  129.5597   \n",
       "change_in_roe_percent                                   125.4717   \n",
       "change_in_debt_to_equity_ratio                          -33.3333   \n",
       "CAGR                                                    -16.3767   \n",
       "\n",
       "                                                             2  \\\n",
       "company                                       AAA Technologies   \n",
       "ltp                                                       89.1   \n",
       "market cap(in cr)                                        114.3   \n",
       "listing open                                              44.5   \n",
       "listing close                                             43.6   \n",
       "issue type                                                 SME   \n",
       "listing date                               2020-10-13 00:00:00   \n",
       "issue size (in Cr)                                        10.2   \n",
       "issue price (in rupee)                                    42.0   \n",
       "qib subscription                                          38.9   \n",
       "hni subscription                                           2.5   \n",
       "retail subscription                                        2.3   \n",
       "total subscription                                         2.4   \n",
       "listing gain %                                             6.0   \n",
       "current gain %                                           112.1   \n",
       "lot size                                                  3000   \n",
       "sector                          COMMERCIAL SERVICES & SUPPLIES   \n",
       "industry                                   CONSULTING SERVICES   \n",
       "minimum_investment_rupee                                126000   \n",
       "subscription_status                             Oversubscribed   \n",
       "min_price_range                                           42.0   \n",
       "max_price_range                                           42.0   \n",
       "no_of_share                                               24.0   \n",
       "change_in_cffoa                                          -10.0   \n",
       "change_in_ebitda                                      933.3333   \n",
       "change_in_eps                                           1500.0   \n",
       "change_in_net_profit                                 1729.3578   \n",
       "change_in_npm_percent                                   2000.0   \n",
       "change_in_roce_percent                                521.7143   \n",
       "change_in_roe_percent                                 780.2292   \n",
       "change_in_debt_to_equity_ratio                           -50.0   \n",
       "CAGR                                                   16.2273   \n",
       "\n",
       "                                                              3  \\\n",
       "company                                              AB Cotspin   \n",
       "ltp                                                       409.0   \n",
       "market cap(in cr)                                         671.5   \n",
       "listing open                                               38.5   \n",
       "listing close                                              40.4   \n",
       "issue type                                                  SME   \n",
       "listing date                                2022-01-11 00:00:00   \n",
       "issue size (in Cr)                                         10.1   \n",
       "issue price (in rupee)                                     35.0   \n",
       "qib subscription                                           38.9   \n",
       "hni subscription                                            9.4   \n",
       "retail subscription                                        17.5   \n",
       "total subscription                                         13.5   \n",
       "listing gain %                                             10.0   \n",
       "current gain %                                           1068.6   \n",
       "lot size                                                   4000   \n",
       "sector                          TEXTILES APPARELS & ACCESSORIES   \n",
       "industry                                               TEXTILES   \n",
       "minimum_investment_rupee                                 140000   \n",
       "subscription_status                              Oversubscribed   \n",
       "min_price_range                                            33.0   \n",
       "max_price_range                                            35.0   \n",
       "no_of_share                                                29.0   \n",
       "change_in_cffoa                                          -100.0   \n",
       "change_in_ebitda                                        33.7662   \n",
       "change_in_eps                                          166.6667   \n",
       "change_in_net_profit                                   187.1795   \n",
       "change_in_npm_percent                                  178.5714   \n",
       "change_in_roce_percent                                  51.5797   \n",
       "change_in_roe_percent                                  126.1146   \n",
       "change_in_debt_to_equity_ratio                         -21.0526   \n",
       "CAGR                                                   126.9283   \n",
       "\n",
       "                                                         4  \n",
       "company                                      AB Infrabuild  \n",
       "ltp                                                  179.4  \n",
       "market cap(in cr)                                   1146.3  \n",
       "listing open                                          29.0  \n",
       "listing close                                         29.1  \n",
       "issue type                                             SME  \n",
       "listing date                           2019-07-11 00:00:00  \n",
       "issue size (in Cr)                                    12.8  \n",
       "issue price (in rupee)                                29.0  \n",
       "qib subscription                                      38.9  \n",
       "hni subscription                                       1.2  \n",
       "retail subscription                                    0.7  \n",
       "total subscription                                     1.0  \n",
       "listing gain %                                         0.0  \n",
       "current gain %                                       518.8  \n",
       "lot size                                              4000  \n",
       "sector                             CEMENT AND CONSTRUCTION  \n",
       "industry                        CONSTRUCTION & ENGINEERING  \n",
       "minimum_investment_rupee                            116000  \n",
       "subscription_status                        Undersubscribed  \n",
       "min_price_range                                       29.0  \n",
       "max_price_range                                       29.0  \n",
       "no_of_share                                           44.0  \n",
       "change_in_cffoa                                   -83.9623  \n",
       "change_in_ebitda                                   19.2308  \n",
       "change_in_eps                                        400.0  \n",
       "change_in_net_profit                             1106.9767  \n",
       "change_in_npm_percent                             966.6667  \n",
       "change_in_roce_percent                             -1.1287  \n",
       "change_in_roe_percent                             579.7101  \n",
       "change_in_debt_to_equity_ratio                    -19.5122  \n",
       "CAGR                                               35.4956  "
      ]
     },
     "execution_count": 4,
     "metadata": {},
     "output_type": "execute_result"
    }
   ],
   "source": [
    "df.head().T"
   ]
  },
  {
   "cell_type": "code",
   "execution_count": 5,
   "id": "08439313-b573-4412-8abb-8505df7e9e34",
   "metadata": {},
   "outputs": [
    {
     "data": {
      "text/plain": [
       "(505, 32)"
      ]
     },
     "execution_count": 5,
     "metadata": {},
     "output_type": "execute_result"
    }
   ],
   "source": [
    "df.shape"
   ]
  },
  {
   "cell_type": "code",
   "execution_count": 9,
   "id": "7679e629-d941-4d75-a969-ed011ce5d0ba",
   "metadata": {},
   "outputs": [
    {
     "data": {
      "text/plain": [
       "Index(['company', 'ltp', 'market cap(in cr)', 'listing open', 'listing close',\n",
       "       'issue type', 'listing date', 'issue size (in Cr)',\n",
       "       'issue price (in rupee)', 'qib subscription', 'hni subscription',\n",
       "       'retail subscription', 'total subscription', 'listing gain %',\n",
       "       'current gain %', 'lot size', 'sector', 'industry',\n",
       "       'minimum_investment_rupee', 'subscription_status', 'min_price_range',\n",
       "       'max_price_range', 'no_of_share', 'change_in_cffoa', 'change_in_ebitda',\n",
       "       'change_in_eps', 'change_in_net_profit', 'change_in_npm_percent',\n",
       "       'change_in_roce_percent', 'change_in_roe_percent',\n",
       "       'change_in_debt_to_equity_ratio', 'CAGR'],\n",
       "      dtype='object')"
      ]
     },
     "execution_count": 9,
     "metadata": {},
     "output_type": "execute_result"
    }
   ],
   "source": [
    "df.columns"
   ]
  },
  {
   "cell_type": "code",
   "execution_count": 6,
   "id": "1ad6d0eb-893b-40d9-b06b-99433827099b",
   "metadata": {
    "scrolled": true
   },
   "outputs": [
    {
     "data": {
      "text/html": [
       "<div>\n",
       "<style scoped>\n",
       "    .dataframe tbody tr th:only-of-type {\n",
       "        vertical-align: middle;\n",
       "    }\n",
       "\n",
       "    .dataframe tbody tr th {\n",
       "        vertical-align: top;\n",
       "    }\n",
       "\n",
       "    .dataframe thead th {\n",
       "        text-align: right;\n",
       "    }\n",
       "</style>\n",
       "<table border=\"1\" class=\"dataframe\">\n",
       "  <thead>\n",
       "    <tr style=\"text-align: right;\">\n",
       "      <th></th>\n",
       "      <th>count</th>\n",
       "      <th>mean</th>\n",
       "      <th>min</th>\n",
       "      <th>25%</th>\n",
       "      <th>50%</th>\n",
       "      <th>75%</th>\n",
       "      <th>max</th>\n",
       "      <th>std</th>\n",
       "    </tr>\n",
       "  </thead>\n",
       "  <tbody>\n",
       "    <tr>\n",
       "      <th>ltp</th>\n",
       "      <td>505.0</td>\n",
       "      <td>408.678218</td>\n",
       "      <td>0.9</td>\n",
       "      <td>50.0</td>\n",
       "      <td>143.6</td>\n",
       "      <td>415.0</td>\n",
       "      <td>6753.0</td>\n",
       "      <td>723.221653</td>\n",
       "    </tr>\n",
       "    <tr>\n",
       "      <th>market cap(in cr)</th>\n",
       "      <td>505.0</td>\n",
       "      <td>5680.266931</td>\n",
       "      <td>3.3</td>\n",
       "      <td>56.0</td>\n",
       "      <td>245.1</td>\n",
       "      <td>1918.4</td>\n",
       "      <td>564126.5</td>\n",
       "      <td>28640.957115</td>\n",
       "    </tr>\n",
       "    <tr>\n",
       "      <th>listing open</th>\n",
       "      <td>505.0</td>\n",
       "      <td>240.687129</td>\n",
       "      <td>6.4</td>\n",
       "      <td>51.0</td>\n",
       "      <td>101.0</td>\n",
       "      <td>251.2</td>\n",
       "      <td>2607.5</td>\n",
       "      <td>355.830522</td>\n",
       "    </tr>\n",
       "    <tr>\n",
       "      <th>listing close</th>\n",
       "      <td>505.0</td>\n",
       "      <td>241.134455</td>\n",
       "      <td>1.2</td>\n",
       "      <td>51.5</td>\n",
       "      <td>103.4</td>\n",
       "      <td>257.9</td>\n",
       "      <td>3118.7</td>\n",
       "      <td>357.62582</td>\n",
       "    </tr>\n",
       "    <tr>\n",
       "      <th>listing date</th>\n",
       "      <td>505</td>\n",
       "      <td>2022-05-02 02:25:25.544554496</td>\n",
       "      <td>2019-02-06 00:00:00</td>\n",
       "      <td>2021-08-10 00:00:00</td>\n",
       "      <td>2022-09-15 00:00:00</td>\n",
       "      <td>2023-07-13 00:00:00</td>\n",
       "      <td>2023-12-29 00:00:00</td>\n",
       "      <td>NaN</td>\n",
       "    </tr>\n",
       "    <tr>\n",
       "      <th>issue size (in Cr)</th>\n",
       "      <td>505.0</td>\n",
       "      <td>425.838416</td>\n",
       "      <td>1.3</td>\n",
       "      <td>9.3</td>\n",
       "      <td>24.4</td>\n",
       "      <td>387.9</td>\n",
       "      <td>21000.0</td>\n",
       "      <td>1502.698797</td>\n",
       "    </tr>\n",
       "    <tr>\n",
       "      <th>issue price (in rupee)</th>\n",
       "      <td>505.0</td>\n",
       "      <td>193.417842</td>\n",
       "      <td>10.0</td>\n",
       "      <td>45.0</td>\n",
       "      <td>80.0</td>\n",
       "      <td>195.0</td>\n",
       "      <td>2150.0</td>\n",
       "      <td>276.565922</td>\n",
       "    </tr>\n",
       "    <tr>\n",
       "      <th>qib subscription</th>\n",
       "      <td>505.0</td>\n",
       "      <td>44.112475</td>\n",
       "      <td>0.5</td>\n",
       "      <td>32.4</td>\n",
       "      <td>38.9</td>\n",
       "      <td>38.9</td>\n",
       "      <td>228.9</td>\n",
       "      <td>39.742087</td>\n",
       "    </tr>\n",
       "    <tr>\n",
       "      <th>hni subscription</th>\n",
       "      <td>505.0</td>\n",
       "      <td>86.419802</td>\n",
       "      <td>0.1</td>\n",
       "      <td>1.9</td>\n",
       "      <td>7.4</td>\n",
       "      <td>87.6</td>\n",
       "      <td>1044.5</td>\n",
       "      <td>165.993369</td>\n",
       "    </tr>\n",
       "    <tr>\n",
       "      <th>retail subscription</th>\n",
       "      <td>505.0</td>\n",
       "      <td>53.393069</td>\n",
       "      <td>0.0</td>\n",
       "      <td>1.9</td>\n",
       "      <td>8.7</td>\n",
       "      <td>39.9</td>\n",
       "      <td>1023.1</td>\n",
       "      <td>125.818553</td>\n",
       "    </tr>\n",
       "    <tr>\n",
       "      <th>total subscription</th>\n",
       "      <td>505.0</td>\n",
       "      <td>51.872871</td>\n",
       "      <td>0.3</td>\n",
       "      <td>2.0</td>\n",
       "      <td>10.5</td>\n",
       "      <td>67.8</td>\n",
       "      <td>689.9</td>\n",
       "      <td>89.084911</td>\n",
       "    </tr>\n",
       "    <tr>\n",
       "      <th>listing gain %</th>\n",
       "      <td>505.0</td>\n",
       "      <td>24.090495</td>\n",
       "      <td>-65.0</td>\n",
       "      <td>0.0</td>\n",
       "      <td>7.3</td>\n",
       "      <td>38.8</td>\n",
       "      <td>252.8</td>\n",
       "      <td>40.001113</td>\n",
       "    </tr>\n",
       "    <tr>\n",
       "      <th>current gain %</th>\n",
       "      <td>505.0</td>\n",
       "      <td>318.371089</td>\n",
       "      <td>-97.1</td>\n",
       "      <td>-15.9</td>\n",
       "      <td>73.9</td>\n",
       "      <td>274.5</td>\n",
       "      <td>7860.8</td>\n",
       "      <td>845.672958</td>\n",
       "    </tr>\n",
       "    <tr>\n",
       "      <th>lot size</th>\n",
       "      <td>505.0</td>\n",
       "      <td>1896.386139</td>\n",
       "      <td>6.0</td>\n",
       "      <td>115.0</td>\n",
       "      <td>1600.0</td>\n",
       "      <td>3000.0</td>\n",
       "      <td>10000.0</td>\n",
       "      <td>2095.983812</td>\n",
       "    </tr>\n",
       "    <tr>\n",
       "      <th>minimum_investment_rupee</th>\n",
       "      <td>505.0</td>\n",
       "      <td>90551.669307</td>\n",
       "      <td>11520.0</td>\n",
       "      <td>14950.0</td>\n",
       "      <td>116800.0</td>\n",
       "      <td>128000.0</td>\n",
       "      <td>150000.0</td>\n",
       "      <td>51199.599765</td>\n",
       "    </tr>\n",
       "    <tr>\n",
       "      <th>min_price_range</th>\n",
       "      <td>505.0</td>\n",
       "      <td>188.261406</td>\n",
       "      <td>10.0</td>\n",
       "      <td>45.0</td>\n",
       "      <td>78.0</td>\n",
       "      <td>190.0</td>\n",
       "      <td>2080.0</td>\n",
       "      <td>269.009464</td>\n",
       "    </tr>\n",
       "    <tr>\n",
       "      <th>max_price_range</th>\n",
       "      <td>505.0</td>\n",
       "      <td>193.443584</td>\n",
       "      <td>10.0</td>\n",
       "      <td>45.0</td>\n",
       "      <td>80.0</td>\n",
       "      <td>195.0</td>\n",
       "      <td>2150.0</td>\n",
       "      <td>276.560734</td>\n",
       "    </tr>\n",
       "    <tr>\n",
       "      <th>no_of_share</th>\n",
       "      <td>505.0</td>\n",
       "      <td>146.228431</td>\n",
       "      <td>0.001002</td>\n",
       "      <td>18.0</td>\n",
       "      <td>39.0</td>\n",
       "      <td>104.0</td>\n",
       "      <td>6719.0</td>\n",
       "      <td>439.170905</td>\n",
       "    </tr>\n",
       "    <tr>\n",
       "      <th>change_in_cffoa</th>\n",
       "      <td>505.0</td>\n",
       "      <td>369.755113</td>\n",
       "      <td>-8300.0</td>\n",
       "      <td>-60.0</td>\n",
       "      <td>4.2308</td>\n",
       "      <td>166.6667</td>\n",
       "      <td>67400.0</td>\n",
       "      <td>3942.695006</td>\n",
       "    </tr>\n",
       "    <tr>\n",
       "      <th>change_in_ebitda</th>\n",
       "      <td>505.0</td>\n",
       "      <td>19274.581321</td>\n",
       "      <td>-600.0</td>\n",
       "      <td>0.1</td>\n",
       "      <td>45.4545</td>\n",
       "      <td>130.0</td>\n",
       "      <td>9652400.0</td>\n",
       "      <td>429519.294419</td>\n",
       "    </tr>\n",
       "    <tr>\n",
       "      <th>change_in_eps</th>\n",
       "      <td>505.0</td>\n",
       "      <td>21679.469121</td>\n",
       "      <td>-8200.0</td>\n",
       "      <td>0.0</td>\n",
       "      <td>60.0</td>\n",
       "      <td>200.0</td>\n",
       "      <td>10860260.0</td>\n",
       "      <td>483267.793938</td>\n",
       "    </tr>\n",
       "    <tr>\n",
       "      <th>change_in_net_profit</th>\n",
       "      <td>505.0</td>\n",
       "      <td>506.867252</td>\n",
       "      <td>-1292.3913</td>\n",
       "      <td>-4.6753</td>\n",
       "      <td>35.8156</td>\n",
       "      <td>139.0071</td>\n",
       "      <td>122750.0</td>\n",
       "      <td>5627.161724</td>\n",
       "    </tr>\n",
       "    <tr>\n",
       "      <th>change_in_npm_percent</th>\n",
       "      <td>505.0</td>\n",
       "      <td>19459.128892</td>\n",
       "      <td>-5720.0</td>\n",
       "      <td>0.0</td>\n",
       "      <td>57.9764</td>\n",
       "      <td>200.0</td>\n",
       "      <td>9652400.0</td>\n",
       "      <td>429525.224235</td>\n",
       "    </tr>\n",
       "    <tr>\n",
       "      <th>change_in_roce_percent</th>\n",
       "      <td>505.0</td>\n",
       "      <td>255.972476</td>\n",
       "      <td>-230.6011</td>\n",
       "      <td>-22.8228</td>\n",
       "      <td>8.8526</td>\n",
       "      <td>76.0925</td>\n",
       "      <td>38466.6667</td>\n",
       "      <td>1962.934767</td>\n",
       "    </tr>\n",
       "    <tr>\n",
       "      <th>change_in_roe_percent</th>\n",
       "      <td>505.0</td>\n",
       "      <td>844.327796</td>\n",
       "      <td>-4968.043</td>\n",
       "      <td>-27.419</td>\n",
       "      <td>12.5559</td>\n",
       "      <td>108.7699</td>\n",
       "      <td>113450.0</td>\n",
       "      <td>7247.430881</td>\n",
       "    </tr>\n",
       "    <tr>\n",
       "      <th>change_in_debt_to_equity_ratio</th>\n",
       "      <td>505.0</td>\n",
       "      <td>26.117726</td>\n",
       "      <td>-5400.8811</td>\n",
       "      <td>-45.1613</td>\n",
       "      <td>-18.1818</td>\n",
       "      <td>0.0</td>\n",
       "      <td>9988.8889</td>\n",
       "      <td>587.132022</td>\n",
       "    </tr>\n",
       "    <tr>\n",
       "      <th>CAGR</th>\n",
       "      <td>505.0</td>\n",
       "      <td>31.559429</td>\n",
       "      <td>-69.2768</td>\n",
       "      <td>-5.1248</td>\n",
       "      <td>17.6212</td>\n",
       "      <td>55.0429</td>\n",
       "      <td>439.3793</td>\n",
       "      <td>59.009174</td>\n",
       "    </tr>\n",
       "  </tbody>\n",
       "</table>\n",
       "</div>"
      ],
      "text/plain": [
       "                                count                           mean  \\\n",
       "ltp                             505.0                     408.678218   \n",
       "market cap(in cr)               505.0                    5680.266931   \n",
       "listing open                    505.0                     240.687129   \n",
       "listing close                   505.0                     241.134455   \n",
       "listing date                      505  2022-05-02 02:25:25.544554496   \n",
       "issue size (in Cr)              505.0                     425.838416   \n",
       "issue price (in rupee)          505.0                     193.417842   \n",
       "qib subscription                505.0                      44.112475   \n",
       "hni subscription                505.0                      86.419802   \n",
       "retail subscription             505.0                      53.393069   \n",
       "total subscription              505.0                      51.872871   \n",
       "listing gain %                  505.0                      24.090495   \n",
       "current gain %                  505.0                     318.371089   \n",
       "lot size                        505.0                    1896.386139   \n",
       "minimum_investment_rupee        505.0                   90551.669307   \n",
       "min_price_range                 505.0                     188.261406   \n",
       "max_price_range                 505.0                     193.443584   \n",
       "no_of_share                     505.0                     146.228431   \n",
       "change_in_cffoa                 505.0                     369.755113   \n",
       "change_in_ebitda                505.0                   19274.581321   \n",
       "change_in_eps                   505.0                   21679.469121   \n",
       "change_in_net_profit            505.0                     506.867252   \n",
       "change_in_npm_percent           505.0                   19459.128892   \n",
       "change_in_roce_percent          505.0                     255.972476   \n",
       "change_in_roe_percent           505.0                     844.327796   \n",
       "change_in_debt_to_equity_ratio  505.0                      26.117726   \n",
       "CAGR                            505.0                      31.559429   \n",
       "\n",
       "                                                min                  25%  \\\n",
       "ltp                                             0.9                 50.0   \n",
       "market cap(in cr)                               3.3                 56.0   \n",
       "listing open                                    6.4                 51.0   \n",
       "listing close                                   1.2                 51.5   \n",
       "listing date                    2019-02-06 00:00:00  2021-08-10 00:00:00   \n",
       "issue size (in Cr)                              1.3                  9.3   \n",
       "issue price (in rupee)                         10.0                 45.0   \n",
       "qib subscription                                0.5                 32.4   \n",
       "hni subscription                                0.1                  1.9   \n",
       "retail subscription                             0.0                  1.9   \n",
       "total subscription                              0.3                  2.0   \n",
       "listing gain %                                -65.0                  0.0   \n",
       "current gain %                                -97.1                -15.9   \n",
       "lot size                                        6.0                115.0   \n",
       "minimum_investment_rupee                    11520.0              14950.0   \n",
       "min_price_range                                10.0                 45.0   \n",
       "max_price_range                                10.0                 45.0   \n",
       "no_of_share                                0.001002                 18.0   \n",
       "change_in_cffoa                             -8300.0                -60.0   \n",
       "change_in_ebitda                             -600.0                  0.1   \n",
       "change_in_eps                               -8200.0                  0.0   \n",
       "change_in_net_profit                     -1292.3913              -4.6753   \n",
       "change_in_npm_percent                       -5720.0                  0.0   \n",
       "change_in_roce_percent                    -230.6011             -22.8228   \n",
       "change_in_roe_percent                     -4968.043              -27.419   \n",
       "change_in_debt_to_equity_ratio           -5400.8811             -45.1613   \n",
       "CAGR                                       -69.2768              -5.1248   \n",
       "\n",
       "                                                50%                  75%  \\\n",
       "ltp                                           143.6                415.0   \n",
       "market cap(in cr)                             245.1               1918.4   \n",
       "listing open                                  101.0                251.2   \n",
       "listing close                                 103.4                257.9   \n",
       "listing date                    2022-09-15 00:00:00  2023-07-13 00:00:00   \n",
       "issue size (in Cr)                             24.4                387.9   \n",
       "issue price (in rupee)                         80.0                195.0   \n",
       "qib subscription                               38.9                 38.9   \n",
       "hni subscription                                7.4                 87.6   \n",
       "retail subscription                             8.7                 39.9   \n",
       "total subscription                             10.5                 67.8   \n",
       "listing gain %                                  7.3                 38.8   \n",
       "current gain %                                 73.9                274.5   \n",
       "lot size                                     1600.0               3000.0   \n",
       "minimum_investment_rupee                   116800.0             128000.0   \n",
       "min_price_range                                78.0                190.0   \n",
       "max_price_range                                80.0                195.0   \n",
       "no_of_share                                    39.0                104.0   \n",
       "change_in_cffoa                              4.2308             166.6667   \n",
       "change_in_ebitda                            45.4545                130.0   \n",
       "change_in_eps                                  60.0                200.0   \n",
       "change_in_net_profit                        35.8156             139.0071   \n",
       "change_in_npm_percent                       57.9764                200.0   \n",
       "change_in_roce_percent                       8.8526              76.0925   \n",
       "change_in_roe_percent                       12.5559             108.7699   \n",
       "change_in_debt_to_equity_ratio             -18.1818                  0.0   \n",
       "CAGR                                        17.6212              55.0429   \n",
       "\n",
       "                                                max            std  \n",
       "ltp                                          6753.0     723.221653  \n",
       "market cap(in cr)                          564126.5   28640.957115  \n",
       "listing open                                 2607.5     355.830522  \n",
       "listing close                                3118.7      357.62582  \n",
       "listing date                    2023-12-29 00:00:00            NaN  \n",
       "issue size (in Cr)                          21000.0    1502.698797  \n",
       "issue price (in rupee)                       2150.0     276.565922  \n",
       "qib subscription                              228.9      39.742087  \n",
       "hni subscription                             1044.5     165.993369  \n",
       "retail subscription                          1023.1     125.818553  \n",
       "total subscription                            689.9      89.084911  \n",
       "listing gain %                                252.8      40.001113  \n",
       "current gain %                               7860.8     845.672958  \n",
       "lot size                                    10000.0    2095.983812  \n",
       "minimum_investment_rupee                   150000.0   51199.599765  \n",
       "min_price_range                              2080.0     269.009464  \n",
       "max_price_range                              2150.0     276.560734  \n",
       "no_of_share                                  6719.0     439.170905  \n",
       "change_in_cffoa                             67400.0    3942.695006  \n",
       "change_in_ebitda                          9652400.0  429519.294419  \n",
       "change_in_eps                            10860260.0  483267.793938  \n",
       "change_in_net_profit                       122750.0    5627.161724  \n",
       "change_in_npm_percent                     9652400.0  429525.224235  \n",
       "change_in_roce_percent                   38466.6667    1962.934767  \n",
       "change_in_roe_percent                      113450.0    7247.430881  \n",
       "change_in_debt_to_equity_ratio            9988.8889     587.132022  \n",
       "CAGR                                       439.3793      59.009174  "
      ]
     },
     "execution_count": 6,
     "metadata": {},
     "output_type": "execute_result"
    }
   ],
   "source": [
    "df.describe().T"
   ]
  },
  {
   "cell_type": "code",
   "execution_count": 7,
   "id": "5d1f09ae-b6e5-45e4-9928-eb888f79623f",
   "metadata": {},
   "outputs": [],
   "source": [
    "#### Creating Classification feature for prediction"
   ]
  },
  {
   "cell_type": "code",
   "execution_count": 8,
   "id": "37d0f6bb-93a7-4911-bd5a-d9e581287e19",
   "metadata": {},
   "outputs": [],
   "source": [
    "def convert(row):\n",
    "    if row['CAGR'] > 15:\n",
    "        return 2\n",
    "    elif row['CAGR'] > 5 and row['CAGR'] < 15:\n",
    "        return 1\n",
    "    else:\n",
    "        return 0"
   ]
  },
  {
   "cell_type": "code",
   "execution_count": 9,
   "id": "07331e18-b574-4ec8-81d7-9597a4b1ad2e",
   "metadata": {},
   "outputs": [],
   "source": [
    "def convert_regre_class(df):\n",
    "    return(\n",
    "        df\n",
    "        .assign(\n",
    "            performance = lambda df_ : df_.apply(convert,axis=1)\n",
    "        )\n",
    "        # .drop(['current gain %','company','listing date','ltp'],axis=1)\n",
    "    )"
   ]
  },
  {
   "cell_type": "code",
   "execution_count": 10,
   "id": "a054e12f-dc2a-40c8-9db3-3ba2a45dc00e",
   "metadata": {},
   "outputs": [],
   "source": [
    "ipo = convert_regre_class(df)\n",
    "ipo_ = convert_regre_class(df_)"
   ]
  },
  {
   "cell_type": "code",
   "execution_count": 11,
   "id": "a747e991-591b-455a-96ec-c38760b95a8f",
   "metadata": {},
   "outputs": [],
   "source": [
    "# ipos = convert_regre_class(df)"
   ]
  },
  {
   "cell_type": "code",
   "execution_count": 12,
   "id": "e5d3846c-e7c1-445a-83c3-cea965b8a4b2",
   "metadata": {},
   "outputs": [],
   "source": [
    "# ipos = ipos.drop(columns=['company','sector','industry','listing date'])"
   ]
  },
  {
   "cell_type": "code",
   "execution_count": 13,
   "id": "0fa53fe1-45d3-4cea-8203-037be0cabeca",
   "metadata": {},
   "outputs": [],
   "source": [
    "# ipos.loc[ipos['issue type'] == 'SME',['issue type']] = 0\n",
    "# ipos.loc[ipos['issue type'] == 'MainBoard',['issue type']] = 1"
   ]
  },
  {
   "cell_type": "code",
   "execution_count": 14,
   "id": "578d14dd-96fb-48e6-99d5-1e114c00a622",
   "metadata": {},
   "outputs": [],
   "source": [
    "# ipos['issue type'] = ipos['issue type'].astype('int')"
   ]
  },
  {
   "cell_type": "code",
   "execution_count": 15,
   "id": "beee40ba-1058-433f-a913-73c6e03cdbeb",
   "metadata": {},
   "outputs": [],
   "source": [
    "# ipos['subscription_status'].unique()"
   ]
  },
  {
   "cell_type": "code",
   "execution_count": 16,
   "id": "b9f123c5-c9be-46db-95ef-077570059078",
   "metadata": {},
   "outputs": [],
   "source": [
    "# ipos.loc[ipos['subscription_status'] == 'Oversubscribed'] = 1\n",
    "# ipos.loc[ipos['subscription_status'] == 'Undersubscribed'] = 0"
   ]
  },
  {
   "cell_type": "code",
   "execution_count": 17,
   "id": "d1d71a9f-50cd-40d2-b0a4-1518b0f51933",
   "metadata": {},
   "outputs": [],
   "source": [
    "# ipos['subscription_status'] = ipos['subscription_status'].astype('int')"
   ]
  },
  {
   "cell_type": "code",
   "execution_count": 18,
   "id": "3a551931-d030-4d05-866c-f2d0b2aa533e",
   "metadata": {},
   "outputs": [],
   "source": [
    "# ipos.info()"
   ]
  },
  {
   "cell_type": "code",
   "execution_count": null,
   "id": "10cf67d1-a932-41f7-b879-1ea23b7fa3d2",
   "metadata": {},
   "outputs": [],
   "source": []
  },
  {
   "cell_type": "code",
   "execution_count": 19,
   "id": "22f982dd-d2a3-458e-ab7a-b794bd465181",
   "metadata": {},
   "outputs": [
    {
     "ename": "NameError",
     "evalue": "name 'columns_to_be_kept' is not defined",
     "output_type": "error",
     "traceback": [
      "\u001b[31m---------------------------------------------------------------------------\u001b[39m",
      "\u001b[31mNameError\u001b[39m                                 Traceback (most recent call last)",
      "\u001b[36mCell\u001b[39m\u001b[36m \u001b[39m\u001b[32mIn[19]\u001b[39m\u001b[32m, line 1\u001b[39m\n\u001b[32m----> \u001b[39m\u001b[32m1\u001b[39m ipo = ipo[\u001b[43mcolumns_to_be_kept\u001b[49m]\n",
      "\u001b[31mNameError\u001b[39m: name 'columns_to_be_kept' is not defined"
     ]
    }
   ],
   "source": [
    "ipo = ipo[columns_to_be_kept]"
   ]
  },
  {
   "cell_type": "code",
   "execution_count": null,
   "id": "c68c87b1-2ea1-474d-b243-0e30dbc19ab4",
   "metadata": {},
   "outputs": [],
   "source": [
    "x = ipo.drop(['performance'],axis=1)\n",
    "y = ipo['performance']"
   ]
  },
  {
   "cell_type": "code",
   "execution_count": null,
   "id": "446504c4-9e5e-4865-aa4b-74c1b4231e06",
   "metadata": {},
   "outputs": [],
   "source": []
  },
  {
   "cell_type": "code",
   "execution_count": null,
   "id": "2aa59301-5f9d-4a53-b1a9-fdd2c6e2d575",
   "metadata": {},
   "outputs": [],
   "source": [
    "ipo_valid = convert_regre_class(df_validation)"
   ]
  },
  {
   "cell_type": "code",
   "execution_count": null,
   "id": "633f23b4-23a3-44ab-97cd-1363c420931b",
   "metadata": {},
   "outputs": [],
   "source": [
    "columns_to_be_kept"
   ]
  },
  {
   "cell_type": "code",
   "execution_count": null,
   "id": "1f92ba2a-e17c-4aa8-bc78-b0a6d824b92d",
   "metadata": {},
   "outputs": [],
   "source": [
    "ipo_valid = ipo_valid[columns_to_be_kept]\n",
    "ipo_valid.head(1)"
   ]
  },
  {
   "cell_type": "code",
   "execution_count": null,
   "id": "baa737c1-500b-4fa8-9830-5202257540a6",
   "metadata": {},
   "outputs": [],
   "source": [
    "ipo_valid.loc[ipo_valid['issue type'] == 'SME',['issue type']] = 0\n",
    "ipo_valid.loc[ipo_valid['issue type'] == 'MainBoard',['issue type']] = 1"
   ]
  },
  {
   "cell_type": "code",
   "execution_count": null,
   "id": "2063a85c-d349-4ad8-97cc-e5d9a0ce159b",
   "metadata": {},
   "outputs": [],
   "source": [
    "ipo_valid['issue type'] = ipo_valid['issue type'].astype('int')"
   ]
  },
  {
   "cell_type": "code",
   "execution_count": null,
   "id": "175926b5-8729-4647-8d49-1341f152c76a",
   "metadata": {},
   "outputs": [],
   "source": [
    "x_ipo_valid = ipo_valid.drop('performance',axis=1)"
   ]
  },
  {
   "cell_type": "code",
   "execution_count": null,
   "id": "a72efd3f-e01d-4360-95b6-6c562d15115f",
   "metadata": {},
   "outputs": [],
   "source": [
    "y_ipo_valid = ipo_valid['performance']"
   ]
  },
  {
   "cell_type": "code",
   "execution_count": null,
   "id": "14de05f3-4f1f-4113-86b3-f045fff8fea5",
   "metadata": {},
   "outputs": [],
   "source": [
    "x_ipo_valid.head(1)"
   ]
  },
  {
   "cell_type": "code",
   "execution_count": null,
   "id": "3b674826-b1dd-4358-bcb9-2913e7432d4c",
   "metadata": {},
   "outputs": [],
   "source": [
    "sample = np.array([428.0,527.3,27.7,119.0,1974.4,90.0,1600,128000 ,33.0,-68.75,66.25,-36.7674,-19.4508,-100,0]).reshape(1,-1)"
   ]
  },
  {
   "cell_type": "code",
   "execution_count": null,
   "id": "4e976e96-b66a-422d-8468-643db756d04b",
   "metadata": {},
   "outputs": [],
   "source": [
    "sample"
   ]
  },
  {
   "cell_type": "code",
   "execution_count": null,
   "id": "93395008-15ba-4364-a933-126338734a30",
   "metadata": {},
   "outputs": [],
   "source": [
    "columns_to_be_kept = []"
   ]
  },
  {
   "cell_type": "code",
   "execution_count": null,
   "id": "1580e5c4-52d0-4ba9-bf08-2a3774d7d29e",
   "metadata": {},
   "outputs": [],
   "source": [
    "columns_to_be_kept.extend(['market cap(in cr)',\n",
    " 'issue size (in Cr)',\n",
    " 'hni subscription',\n",
    " 'retail subscription',\n",
    " 'total subscription',\n",
    " 'listing gain %',\n",
    " 'change_in_cffoa',\n",
    " 'change_in_ebitda',\n",
    " 'change_in_net_profit',\n",
    " 'change_in_roce_percent',\n",
    " 'change_in_roe_percent',\n",
    " 'change_in_debt_to_equity_ratio',\n",
    " 'performance'])"
   ]
  },
  {
   "cell_type": "code",
   "execution_count": null,
   "id": "c631a9b4-3750-490a-ab12-96bb14ca53f0",
   "metadata": {},
   "outputs": [],
   "source": [
    "ipo = ipo[columns_to_be_kept]\n",
    "ipo_ = ipo_[columns_to_be_kept]"
   ]
  },
  {
   "cell_type": "code",
   "execution_count": null,
   "id": "eb1031fc-abe2-4edc-828e-5e5776523569",
   "metadata": {},
   "outputs": [],
   "source": [
    "ipo.head(1)"
   ]
  },
  {
   "cell_type": "code",
   "execution_count": null,
   "id": "9c120ed3-140a-4400-933f-cc341398ae9c",
   "metadata": {},
   "outputs": [],
   "source": [
    "ipo_.head(1)"
   ]
  },
  {
   "cell_type": "code",
   "execution_count": null,
   "id": "70714ba0-09d9-4bab-9db0-57164b0a2f4c",
   "metadata": {},
   "outputs": [],
   "source": [
    "ipo['performance'].value_counts()"
   ]
  },
  {
   "cell_type": "code",
   "execution_count": null,
   "id": "3a49e505-f0c1-49d0-ac65-aa59659d1bb7",
   "metadata": {},
   "outputs": [],
   "source": [
    "validation = ipo_.drop('performance',axis=1)\n",
    "actual = ipo_['performance']"
   ]
  },
  {
   "cell_type": "markdown",
   "id": "a6496fe2-95ed-47cf-ac6e-53832730037a",
   "metadata": {},
   "source": [
    "##### Train test split"
   ]
  },
  {
   "cell_type": "code",
   "execution_count": null,
   "id": "338ad2da-e145-4430-8752-c0abd45008f2",
   "metadata": {},
   "outputs": [],
   "source": [
    "x = ipo.drop(['performance'],axis=1)\n",
    "y = ipo['performance']"
   ]
  },
  {
   "cell_type": "code",
   "execution_count": null,
   "id": "19b4d1ff-c559-4baa-b769-339c5a9eb26e",
   "metadata": {},
   "outputs": [],
   "source": [
    "x_train,x_test,y_train,y_test = train_test_split(x,y,random_state=42,test_size=0.2)"
   ]
  },
  {
   "cell_type": "markdown",
   "id": "a1b502ba-5bda-4533-9d94-0be3ccad194e",
   "metadata": {},
   "source": [
    "##### Logistic Regression"
   ]
  },
  {
   "cell_type": "code",
   "execution_count": null,
   "id": "10f86f52-b068-41eb-b0ba-0217a9bd0113",
   "metadata": {},
   "outputs": [],
   "source": [
    "lg = LogisticRegression(class_weight=\"balanced\", max_iter=500)"
   ]
  },
  {
   "cell_type": "code",
   "execution_count": null,
   "id": "97548c62-b6e8-42ae-bee3-8bcbe3b33fbf",
   "metadata": {},
   "outputs": [],
   "source": [
    "scaler = StandardScaler()\n",
    "x_train_scaled = scaler.fit_transform(x_train)\n",
    "x_test_scaled = scaler.transform(x_test)"
   ]
  },
  {
   "cell_type": "code",
   "execution_count": null,
   "id": "fdbc7e0e-0556-4e3d-81f0-743141de7793",
   "metadata": {},
   "outputs": [],
   "source": [
    "lg.fit(x_train_scaled,y_train)"
   ]
  },
  {
   "cell_type": "code",
   "execution_count": null,
   "id": "6e545018-0373-44cd-b4d8-e2936cffdb9d",
   "metadata": {},
   "outputs": [],
   "source": [
    "y_pred = lg.predict(x_test_scaled)\n",
    "y_pred_on_train = lg.predict(x_train_scaled)\n",
    "y_pred_val = lg.predict(validation)"
   ]
  },
  {
   "cell_type": "code",
   "execution_count": null,
   "id": "91284f1c-f464-4c5f-9cb8-9257df54db65",
   "metadata": {},
   "outputs": [],
   "source": [
    "print(\"Train Accuracy:\", accuracy_score(y_train, y_pred_on_train))\n",
    "print(\"Test Accuracy:\", accuracy_score(y_test, y_pred))\n",
    "print(\"Validation Accuracy (2024):\", accuracy_score(actual, y_pred_val))"
   ]
  },
  {
   "cell_type": "code",
   "execution_count": null,
   "id": "edf06d96-8ec9-4f26-b516-41894815d0b8",
   "metadata": {},
   "outputs": [],
   "source": [
    "print(\"Train r2 score:\", r2_score(y_train, y_pred_on_train))\n",
    "print(\"Test r2 score:\", r2_score(y_test, y_pred))\n",
    "print(\"Validation r2 score (2024):\", r2_score(actual, y_pred_val))"
   ]
  },
  {
   "cell_type": "code",
   "execution_count": null,
   "id": "5266adae-5e2e-4f00-b1aa-6c303553d417",
   "metadata": {},
   "outputs": [],
   "source": [
    "print(f\"Classification Report of Logistic on Train :\\n{classification_report(y_pred_on_train,y_train)}\")\n",
    "print(\"=\"*80)\n",
    "print(f\"Classification Report of Logistic on Test :\\n{classification_report(y_pred,y_test)}\")\n",
    "print(\"=\"*80)\n",
    "print(f\"Classification Report of Logistic on Validation :\\n{classification_report(y_pred_val,actual)}\")"
   ]
  },
  {
   "cell_type": "markdown",
   "id": "4aebe361-94f0-4d4f-8b9d-ad5ef1d50916",
   "metadata": {},
   "source": [
    "##### Random Forest"
   ]
  },
  {
   "cell_type": "code",
   "execution_count": null,
   "id": "c85afd7e-ad1a-4467-9765-a10d013c92ec",
   "metadata": {},
   "outputs": [],
   "source": [
    "rfc = RandomForestClassifier(n_estimators=200, class_weight=\"balanced\", n_jobs=-1)"
   ]
  },
  {
   "cell_type": "code",
   "execution_count": null,
   "id": "09297909-14b6-4e5f-a4fe-c61c59cf9ee4",
   "metadata": {},
   "outputs": [],
   "source": [
    "rfc.fit(x_train,y_train)"
   ]
  },
  {
   "cell_type": "code",
   "execution_count": null,
   "id": "89562c5b-ea25-4701-a0dd-23023d7ea8f7",
   "metadata": {},
   "outputs": [],
   "source": [
    "y_pred = rfc.predict(x_test)\n",
    "y_pred_on_x = rfc.predict(x_train)\n",
    "y_pred_val = rfc.predict(validation)"
   ]
  },
  {
   "cell_type": "code",
   "execution_count": null,
   "id": "a70d6dd8-acb7-4e3e-a95c-63ac18e91fc4",
   "metadata": {},
   "outputs": [],
   "source": [
    "print(\"Train Accuracy:\", accuracy_score(y_train, y_pred_on_x))\n",
    "print(\"Test Accuracy:\", accuracy_score(y_test, y_pred))\n",
    "print(\"Validation Accuracy (2024):\", accuracy_score(actual, y_pred_val))"
   ]
  },
  {
   "cell_type": "code",
   "execution_count": null,
   "id": "48bc569e-5dff-41b5-97e6-09ab0787364a",
   "metadata": {},
   "outputs": [],
   "source": [
    "print(\"Train r2 score:\", r2_score(y_train, y_pred_on_x))\n",
    "print(\"Test r2 score:\", r2_score(y_test, y_pred))\n",
    "print(\"Validation r2 score (2024):\", r2_score(actual, y_pred_val))"
   ]
  },
  {
   "cell_type": "code",
   "execution_count": null,
   "id": "9e66a394-d1e0-4e23-a8bf-c97fd2d4a0ba",
   "metadata": {},
   "outputs": [],
   "source": [
    "print(f\"Classification Report of Random Forest on Train :\\n{classification_report(y_pred_on_x,y_train)}\")\n",
    "print(\"=\"*80)\n",
    "print(f\"Classification Report of Random Forest on Test :\\n{classification_report(y_pred,y_test)}\")\n",
    "print(\"=\"*80)\n",
    "print(f\"Classification Report of Random Forest on Validation :\\n{classification_report(y_pred_val,actual)}\")"
   ]
  },
  {
   "cell_type": "markdown",
   "id": "3d121548-23d4-47a7-b2d4-78c68b5eb5ee",
   "metadata": {},
   "source": [
    "### Xgboost"
   ]
  },
  {
   "cell_type": "code",
   "execution_count": null,
   "id": "a59f63df-75b9-4289-ab39-4f7adbf26c39",
   "metadata": {},
   "outputs": [],
   "source": [
    "##### Withpout class imbalancing"
   ]
  },
  {
   "cell_type": "code",
   "execution_count": null,
   "id": "484ebe44-f07c-4662-b3a2-49ac3e2b77f8",
   "metadata": {},
   "outputs": [],
   "source": [
    "xgb_classifier = xgb.XGBClassifier(objective='multi:softmax',  num_class=4)"
   ]
  },
  {
   "cell_type": "code",
   "execution_count": null,
   "id": "b10aad8d-801a-41a1-8fdf-41b6a86ddb63",
   "metadata": {},
   "outputs": [],
   "source": [
    "xgb_classifier.fit(x_train,y_train)"
   ]
  },
  {
   "cell_type": "code",
   "execution_count": null,
   "id": "af072558-d8fd-48a7-93ba-a7ed6b712a8c",
   "metadata": {},
   "outputs": [],
   "source": [
    "y_pred = xgb_classifier.predict(x_test)\n",
    "y_pred_on_x = xgb_classifier.predict(x_train)\n",
    "y_pred_val = xgb_classifier.predict(validation)"
   ]
  },
  {
   "cell_type": "code",
   "execution_count": null,
   "id": "c1812a66-706d-4f1e-a790-b5b49478dd8b",
   "metadata": {},
   "outputs": [],
   "source": [
    "print(\"Train Accuracy:\", accuracy_score(y_train, y_pred_on_x))\n",
    "print(\"Test Accuracy:\", accuracy_score(y_test, y_pred))\n",
    "print(\"Validation Accuracy (2024):\", accuracy_score(actual, y_pred_val))"
   ]
  },
  {
   "cell_type": "code",
   "execution_count": null,
   "id": "ca75d5ae-7d2b-4f9a-8e19-135521ca8ab6",
   "metadata": {},
   "outputs": [],
   "source": [
    "print(f\"Classification Report of Random Forest on Train :\\n{classification_report(y_pred_on_x,y_train)}\")\n",
    "print(\"=\"*80)\n",
    "print(f\"Classification Report of Random Forest on Test :\\n{classification_report(y_pred,y_test)}\")\n",
    "print(\"=\"*80)\n",
    "print(f\"Classification Report of Random Forest on Validation :\\n{classification_report(y_pred_val,actual)}\")"
   ]
  },
  {
   "cell_type": "markdown",
   "id": "fa688e31-21bc-4f97-8559-f77ef2e03390",
   "metadata": {},
   "source": [
    "#### Applying regularization"
   ]
  },
  {
   "cell_type": "code",
   "execution_count": null,
   "id": "6074313b-e70e-4851-bf34-c22901f8eda7",
   "metadata": {},
   "outputs": [],
   "source": []
  },
  {
   "cell_type": "code",
   "execution_count": null,
   "id": "c8c44536-81d9-4583-ae7b-ce66a1deda88",
   "metadata": {},
   "outputs": [],
   "source": [
    "xgb_c = xgb.XGBClassifier(\n",
    "    objective=\"multi:softmax\",\n",
    "    num_class=5,\n",
    "    eval_metric=\"mlogloss\",\n",
    "    max_depth=3,        # lower tree depth\n",
    "    min_child_weight=5, # require more samples per leaf\n",
    "    subsample=0.7,      # random row sampling\n",
    "    colsample_bytree=0.6, # random feature sampling\n",
    "    reg_lambda=0.9,       # L2 regularization\n",
    "    reg_alpha=2.8        # L1 regularization\n",
    ")"
   ]
  },
  {
   "cell_type": "markdown",
   "id": "9fb4256e-0d7b-4a32-b947-8bf052e76c26",
   "metadata": {},
   "source": [
    "L2 = 0.9\n",
    "L1 = 2.8"
   ]
  },
  {
   "cell_type": "code",
   "execution_count": null,
   "id": "f1092bff-9d43-447a-ab58-a7aaa1461f32",
   "metadata": {},
   "outputs": [],
   "source": [
    "xgb_c.fit(x,y)"
   ]
  },
  {
   "cell_type": "code",
   "execution_count": null,
   "id": "4e4ef7dd-b0b1-492e-8766-971371770a38",
   "metadata": {},
   "outputs": [],
   "source": [
    "y_pred = xgb_c.predict(x_test)\n",
    "y_pred_on_x = xgb_c.predict(x_train)\n",
    "y_pred_val = xgb_c.predict(validation)"
   ]
  },
  {
   "cell_type": "code",
   "execution_count": null,
   "id": "54addd48-cad9-4960-a380-91d8451f01db",
   "metadata": {},
   "outputs": [],
   "source": [
    "print(\"Train Accuracy:\", accuracy_score(y_train, y_pred_on_x))\n",
    "print(\"Test Accuracy:\", accuracy_score(y_test, y_pred))\n",
    "print(\"Validation Accuracy (2024):\", accuracy_score(actual, y_pred_val))"
   ]
  },
  {
   "cell_type": "code",
   "execution_count": null,
   "id": "a9d8d7b4-ae60-4ad6-ae98-460a6036cb5b",
   "metadata": {},
   "outputs": [],
   "source": [
    "print(f\"Classification Report of Random Forest on Train :\\n{classification_report(y_pred_on_x,y_train)}\")\n",
    "print(\"=\"*80)\n",
    "print(f\"Classification Report of Random Forest on Test :\\n{classification_report(y_pred,y_test)}\")\n",
    "print(\"=\"*80)\n",
    "print(f\"Classification Report of Random Forest on Validation :\\n{classification_report(y_pred_val,actual)}\")"
   ]
  },
  {
   "cell_type": "code",
   "execution_count": null,
   "id": "6e26ae1f-1361-49dd-8e27-330f308650b8",
   "metadata": {},
   "outputs": [],
   "source": [
    "print(\"Train r2 score:\", r2_score(y_train, y_pred_on_x))\n",
    "print(\"Test r2 score:\", r2_score(y_test, y_pred))\n",
    "print(\"Validation r2 score (2024):\", r2_score(actual, y_pred_val))"
   ]
  },
  {
   "cell_type": "code",
   "execution_count": null,
   "id": "89cd30b4-0226-4744-bff9-674a9be01b90",
   "metadata": {},
   "outputs": [],
   "source": [
    "scaler = StandardScaler()\n",
    "x_train_scaled = scaler.fit_transform(x_train)\n",
    "x_test_scaled = scaler.transform(x_test)"
   ]
  },
  {
   "cell_type": "code",
   "execution_count": null,
   "id": "db1d7b57-9e65-45e5-8854-c68a99e0fc49",
   "metadata": {},
   "outputs": [],
   "source": [
    "svm_model = SVC(kernel='rbf', C=1.0) # rbf kernel is a good starting point\n",
    "svm_model.fit(x_train_scaled, y_train)"
   ]
  },
  {
   "cell_type": "code",
   "execution_count": null,
   "id": "20da9c43-c33b-45ca-878e-a880a796051f",
   "metadata": {},
   "outputs": [],
   "source": [
    "y_pred = svm_model.predict(x_test_scaled)"
   ]
  },
  {
   "cell_type": "code",
   "execution_count": null,
   "id": "7bb6a6df-136d-4b7c-aed9-7392bad30012",
   "metadata": {},
   "outputs": [],
   "source": [
    "accuracy_score(y_pred,y_test)"
   ]
  },
  {
   "cell_type": "code",
   "execution_count": null,
   "id": "10c9d8d3-0861-444d-b4d0-f7909f76e961",
   "metadata": {},
   "outputs": [],
   "source": [
    "print(classification_report(y_test, y_pred, zero_division=0))"
   ]
  },
  {
   "cell_type": "code",
   "execution_count": null,
   "id": "81408413-dce2-43d0-97b0-f63f5bf8c779",
   "metadata": {},
   "outputs": [],
   "source": []
  },
  {
   "cell_type": "code",
   "execution_count": null,
   "id": "1363f6fe-6ebf-48f4-ada6-4a2da2cc4a2c",
   "metadata": {},
   "outputs": [],
   "source": []
  },
  {
   "cell_type": "code",
   "execution_count": null,
   "id": "e4917d78-1ceb-40e4-a813-45f28ce6d076",
   "metadata": {},
   "outputs": [],
   "source": []
  },
  {
   "cell_type": "code",
   "execution_count": null,
   "id": "df68d232-74b8-4e51-bd84-7122d940f8c8",
   "metadata": {},
   "outputs": [],
   "source": []
  },
  {
   "cell_type": "code",
   "execution_count": null,
   "id": "d3017186-098c-45db-8349-ac3bac37dcb4",
   "metadata": {},
   "outputs": [],
   "source": []
  },
  {
   "cell_type": "code",
   "execution_count": null,
   "id": "c5a695f4-b3b6-4187-9c3c-200f0b981cd2",
   "metadata": {},
   "outputs": [],
   "source": [
    "def plot_numeric_graph(col):\n",
    "\n",
    "    fig,ax = plt.subplots(2,2,figsize=(15,10))\n",
    "\n",
    "    ax[0,0].hist(df[col],density=True)\n",
    "    # sns.histplot(data=df,x=col,ax=ax[0,0],bins=np.histogram_bin_edges(df[col]),binwidth=10)\n",
    "    ax[0,0].set_title(f'Histogram & KDE of {col}')\n",
    "    ax[0,1].plot(df[col])\n",
    "    ax[0,1].set_title(f'Line Chart of {col}')\n",
    "    sns.kdeplot(ax=ax[0,0],data=df,x=col)\n",
    "    sns.boxplot(data=df,x=col,ax=ax[1,0])\n",
    "    ax[1,0].set_title(f'Box plot of {col}')\n",
    "    plt.show()"
   ]
  },
  {
   "cell_type": "code",
   "execution_count": null,
   "id": "139c743e-e186-4eb0-8286-27d38617d89c",
   "metadata": {
    "scrolled": true
   },
   "outputs": [],
   "source": [
    "for i in numeric_columns:\n",
    "    plot_numeric_graph(i)\n",
    "    print(\"=\"*140)\n",
    "    print(\"\\n\")\n",
    "    # break"
   ]
  },
  {
   "cell_type": "markdown",
   "id": "eb76c08d-5946-4e59-871d-ab58a53c876e",
   "metadata": {},
   "source": []
  },
  {
   "cell_type": "markdown",
   "id": "d39791ae-815d-47b4-80bc-466fdaf21a66",
   "metadata": {},
   "source": [
    "**All notes**\n",
    "- `LTP`\n",
    "  1. LTP has major values lie between 0-~500.\n",
    "  2. As it crosses ~500 price ltp start declining.\n",
    "  3. There is a `major drop` in LTP after 500 and after 500 there is not drop in LTP it is decling.\n",
    "- `Market Cap`\n",
    "  1. Some companies have very large market cap 500000 cr.\n",
    "  2. While major companies have mrket cap in between 0-~50000 cr.\n",
    "  3. In our data majorly we have companies whose market cap lies between 0-50000 cr.\n",
    "- `Listing Open`\n",
    "  1. Majorly IPO's open price range approximately 0-200.\n",
    "  2. After 250 rs. approx we can see a clear and major drop in opening price. And as price increases the no. of companies decreases.\n",
    "  3. We have very fewer companies who have higher opening price .\n",
    "- `Closing Price`\n",
    "  1. Same pattern as in opening price.\n",
    "- `Issue Size`\n",
    "  1. We can se a very similar pattern between market cap and issue size . Not numerically similar but the pattern both are making is similar.\n",
    "  2. Majorly companies issue their share size in  betwwen ~ 0-2500 cr.\n",
    "  3. Same here as we cross approximately 2500 cr there is sudden drop in issue price. And then drop is conitnouos. Means majorly we have only that companies whose issue size is in between 0-2500 cr approximately .\n",
    "- `Issue Price`\n",
    "  1. Issue price also show some type of association with opening price.\n",
    "  2. We have more issue price in between 0-250 rs. approx and as the issue price increase the no. of companies decrease.\n",
    "- `QIB Subscription`\n",
    "  1. Same here we can see major times QIB gets sucbscribed in range 0f 0-25 approx and as we cross the there is sudden drop in subscription.\n",
    "  2. And the drop continuous but not a rapid rate.\n",
    "  3. We can see a kde plot start from nearly -40 and make a center at around 25.\n",
    "- `HNI Subscription`\n",
    "  1. HNI also get more subscribed in between 0-100.\n",
    "  2. And after 100 we can notice a big drop and the drop is continuous after some number and it is sudden but not a bigger. BUt when we see it in kde it is smooother.\n",
    "  3. Here also Kde plot start from nearly -170 and make a center nearly 0.\n",
    "- `Retail Subscription`\n",
    "  1. Same pattern as both subscription shows.\n",
    "  2. And also it's kde start from negative and amke a center around at 0.\n",
    "- `Total Subscription`\n",
    "  1. It is also very similar to QIB,HNI and retail subscription.\n",
    "  2. Majorly total subscription is lies between 0-75 approx and the a bigger drop and this continues.\n",
    "  3. The drop happen after 1st and bigger drop but not bigger as first.\n",
    "  4. And also kde for this is also start from negative and make a center around 0.\n",
    "- `Listing Gain`\n",
    "  1. We can se here also the data is right skewed means modt of data we have are at right side at fewer are left side.\n",
    "  2. Here we can see may companies have negative gain on their listing date around -50 to below 0.\n",
    "  3. And are there are major companies who have listong gain between 0-50. \n",
    "  4. And also there are companies who lies in between above 50 to 100 % gain.\n",
    "  5. And above percent also. Means there are companies who achieve 100 % gain on their listing day.\n",
    "- `Current Gain`\n",
    "  1. But here we can see a different story.\n",
    "  2. Although the kde start from negative but majorly companies have above 100 or 500 % gain in market.\n",
    "  3. This is also a right skewed data.\n",
    "- `Lot Size`\n",
    "  1. We can Lot size differ vary.\n",
    "  2. Though this also follows right skewed distribution.\n",
    "  3. we have a peak at different-different lot size range .\n",
    "  4. Such as a peak at between 5000-6000 and then at 7000-8000 and then 9000-10000.\n",
    "  5. And also greater peak at 0-nearly 1000 lot. And then a drop after 1000 lot size and similarly drop  after 3000 lot size.\n",
    "  6. And we can also we don't have any lot size between 4000-500 ,6000-7000,8000-9000 and then after 10000.\n",
    "- `Minimum Investment Rupee`\n",
    "  1. Here data have multiple peak at different values.\n",
    "  2. Mojorly values lies between 1L-1.5L\n",
    "- `Min and Max Price Range`\n",
    "  1. Both are showing same pattern.\n",
    "  2. We can see in min price range their is gap between from roughly 12,000 - 15,000.\n",
    "  3. Min price have some peak at price range of 15,000 but in max price range this faltter than min in min price range.\n",
    "- `No. of Shares`\n",
    "  1. Most of IPO's launch 0-~700 lakh shares. Becuase at this region their is a peak.\n",
    "  2. In data their are companies who launch their IPO with more than 2000 lakh shares."
   ]
  },
  {
   "cell_type": "code",
   "execution_count": null,
   "id": "0fe3fd8b-6194-409f-ad2f-9c895e191e27",
   "metadata": {},
   "outputs": [],
   "source": [
    "def plot_cat_graph(col):\n",
    "    fig,ax = plt.subplots(2,2,figsize=(15,10))\n",
    "\n",
    "    sns.barplot(data=df, x=col ,y=df['market cap(in cr)'], ax = ax[0,0])\n",
    "    # sns.swarmplot(data=df, x=col ,y=df['market cap(in cr)'], ax= ax[0,1])\n",
    "    sns.violinplot(x=col, y=df['market cap(in cr)'] , data=df,ax=ax[1,0])\n",
    "    sns.stripplot(x=col, y=df['market cap(in cr)'] , data=df, jitter=True,ax=ax[1,1])"
   ]
  },
  {
   "cell_type": "code",
   "execution_count": null,
   "id": "e8377bff-b02a-48cb-b2d3-cc26ac8c3734",
   "metadata": {},
   "outputs": [],
   "source": [
    "def plot_better_graph(col):\n",
    "    plt.figure(figsize=(10, 7))\n",
    "\n",
    "    # 1. Draw the violin plot to show the distribution\n",
    "    sns.violinplot(data=df, x=col, y='market cap(in cr)', color='lightgray')\n",
    "\n",
    "    # 2. Overlay a stripplot to show individual points\n",
    "    sns.stripplot(data=df, x=col, y='market cap(in cr)', jitter=True)\n",
    "\n",
    "    plt.title(f'Distribution of Market Cap by {col}')\n",
    "    plt.show()"
   ]
  },
  {
   "cell_type": "code",
   "execution_count": null,
   "id": "09758061-0062-4b88-8273-adf2317f2db8",
   "metadata": {},
   "outputs": [],
   "source": []
  },
  {
   "cell_type": "code",
   "execution_count": null,
   "id": "4c597de4-a330-46fc-82f5-3798a78c6058",
   "metadata": {},
   "outputs": [],
   "source": [
    "for i in cat_columns:\n",
    "    if i == 'company':\n",
    "        continue\n",
    "    plot_better_graph(i)"
   ]
  },
  {
   "cell_type": "code",
   "execution_count": null,
   "id": "2c881e6d-0701-44f7-89cd-94b79e9c98ae",
   "metadata": {},
   "outputs": [],
   "source": []
  },
  {
   "cell_type": "code",
   "execution_count": null,
   "id": "d1f2760f-1278-4123-9435-35db5289e42d",
   "metadata": {},
   "outputs": [],
   "source": [
    "from sklearn.linear_model import LinearRegression"
   ]
  },
  {
   "cell_type": "code",
   "execution_count": null,
   "id": "4973d3e4-d175-4623-ae73-59bb8f585359",
   "metadata": {},
   "outputs": [],
   "source": [
    "ipo = df.copy()"
   ]
  },
  {
   "cell_type": "code",
   "execution_count": null,
   "id": "015ac0db-8ba1-44b1-b824-dc30d03da3dd",
   "metadata": {},
   "outputs": [],
   "source": [
    "numeric_columns = ipo.select_dtypes(include='number')\n",
    "num_col = numeric_columns.columns"
   ]
  },
  {
   "cell_type": "code",
   "execution_count": null,
   "id": "c30e4181-05d4-4619-a82c-a3b8981d38b7",
   "metadata": {},
   "outputs": [],
   "source": [
    "columns_to_be_kept = []"
   ]
  },
  {
   "cell_type": "code",
   "execution_count": null,
   "id": "93572444-883b-4104-ada9-618cc2031b2a",
   "metadata": {},
   "outputs": [],
   "source": [
    "total_columns = numeric_columns.shape[1]\n",
    "column_index = 0\n",
    "\n",
    "for i in range (0,total_columns):\n",
    "    \n",
    "    vif_value = variance_inflation_factor(numeric_columns, column_index)\n",
    "    print (numeric_columns.columns[column_index],' ---> ',vif_value)\n",
    "    if vif_value <= 6:\n",
    "        columns_to_be_kept.append(num_col[i])\n",
    "        column_index = column_index+1\n",
    "    \n",
    "    else:\n",
    "        vif_data = numeric_columns.drop([num_col[i]] , axis=1)\n",
    "        column_index = column_index+1\n"
   ]
  },
  {
   "cell_type": "code",
   "execution_count": null,
   "id": "347bbb3d-255f-4a66-979c-d9033d70c084",
   "metadata": {},
   "outputs": [],
   "source": [
    "columns_to_be_kept.extend(['market cap(in cr)',\n",
    " 'issue size (in Cr)',\n",
    " 'hni subscription',\n",
    " 'retail subscription',\n",
    " 'total subscription',\n",
    " 'listing gain %',\n",
    " 'change_in_cffoa',\n",
    " 'change_in_ebitda',\n",
    " 'change_in_eps',\n",
    " 'change_in_net_profit',\n",
    " 'change_in_npm_percent',\n",
    " 'change_in_roce_percent',\n",
    " 'change_in_roe_percent',\n",
    " 'change_in_debt_to_equity_ratio',\n",
    " 'CAGR',\n",
    " 'performance'])"
   ]
  },
  {
   "cell_type": "code",
   "execution_count": null,
   "id": "77bfe423-611c-4383-9e58-d60c882f7e56",
   "metadata": {},
   "outputs": [],
   "source": [
    "columns_to_be_kept"
   ]
  },
  {
   "cell_type": "code",
   "execution_count": null,
   "id": "8941c7c2-431c-4c5d-8d82-b4d86047eed3",
   "metadata": {},
   "outputs": [],
   "source": [
    "ipo_ = ipo[columns_to_be_kept]"
   ]
  },
  {
   "cell_type": "code",
   "execution_count": null,
   "id": "1f4860b6-7d60-498a-b520-3cbd7b091887",
   "metadata": {},
   "outputs": [],
   "source": [
    "ipo_ = ipo_.drop(['performance'],axis=1)"
   ]
  },
  {
   "cell_type": "code",
   "execution_count": null,
   "id": "167d9aea-3c34-4c5e-9cd4-7341d9009b4e",
   "metadata": {},
   "outputs": [],
   "source": [
    "x = ipo_.drop('CAGR',axis=1)\n",
    "y = ipo_['CAGR']"
   ]
  },
  {
   "cell_type": "code",
   "execution_count": null,
   "id": "30ae9774-d641-400b-bd45-e9dbb4ff8850",
   "metadata": {},
   "outputs": [],
   "source": [
    "x_test,x_train,y_test,y_train = train_test_split(x,y,random_state=42,test_size=0.2)"
   ]
  },
  {
   "cell_type": "code",
   "execution_count": null,
   "id": "07793798-1108-4c20-a4be-ab9d56df6bca",
   "metadata": {},
   "outputs": [],
   "source": [
    "lr = LinearRegression()"
   ]
  },
  {
   "cell_type": "code",
   "execution_count": null,
   "id": "7aec64a6-51a9-4898-bb4d-7d89f612af02",
   "metadata": {},
   "outputs": [],
   "source": [
    "lr.fit(x_train,y_train)"
   ]
  },
  {
   "cell_type": "code",
   "execution_count": null,
   "id": "ef2d36e1-2d37-4746-a3d2-d0bf1c7b07e5",
   "metadata": {},
   "outputs": [],
   "source": [
    "y_pred = lr.predict(x_test)"
   ]
  },
  {
   "cell_type": "code",
   "execution_count": null,
   "id": "691fa0bd-3b3f-4839-8a60-d3728325d217",
   "metadata": {},
   "outputs": [],
   "source": [
    "from sklearn.metrics import mean_squared_error,r2_score"
   ]
  },
  {
   "cell_type": "code",
   "execution_count": null,
   "id": "7c49fdee-d2fc-491e-ac52-8bfbb0155c93",
   "metadata": {},
   "outputs": [],
   "source": [
    "# train_mse = mean_squared_error(y_train, y_pred)\n",
    "test_mse = mean_squared_error(y_test, y_pred)\n",
    "# train_r2 = r2_score(y_train, y_pred_train)\n",
    "test_r2 = r2_score(y_test, y_pred)"
   ]
  },
  {
   "cell_type": "code",
   "execution_count": null,
   "id": "43d154f4-ff3a-4535-832f-484ec6a837b2",
   "metadata": {},
   "outputs": [],
   "source": [
    "print(\"Model Performance:\")\n",
    "# print(f\"Training MSE: {train_mse:.4f}, R²: {train_r2:.4f}\")\n",
    "print(f\"Test MSE: {test_mse:.4f}, R²: {test_r2:.4f}\")"
   ]
  },
  {
   "cell_type": "code",
   "execution_count": null,
   "id": "9023eeb4-5500-49a4-ba6c-0afa806b561a",
   "metadata": {},
   "outputs": [],
   "source": [
    "from sklearn.preprocessing import StandardScaler"
   ]
  },
  {
   "cell_type": "code",
   "execution_count": null,
   "id": "50da368b-c0d6-43e7-887b-8dea944d6dcd",
   "metadata": {},
   "outputs": [],
   "source": [
    "scaler = StandardScaler()"
   ]
  },
  {
   "cell_type": "code",
   "execution_count": null,
   "id": "abcbd28e-f83b-4881-ad8d-3cd34b368a31",
   "metadata": {},
   "outputs": [],
   "source": [
    "x_train_scaled = scaler.fit_transform(x_train)\n",
    "x_test_scaled = scaler.transform(x_test)"
   ]
  },
  {
   "cell_type": "code",
   "execution_count": null,
   "id": "afb35e2a-627e-4aea-b122-fe2b7c7e5a3e",
   "metadata": {},
   "outputs": [],
   "source": [
    "x_test_scaled"
   ]
  },
  {
   "cell_type": "code",
   "execution_count": null,
   "id": "111bf441-89b0-4c3c-8abc-db30e5e54121",
   "metadata": {},
   "outputs": [],
   "source": [
    "lr.fit(x_train_scaled,y_train)"
   ]
  },
  {
   "cell_type": "code",
   "execution_count": null,
   "id": "9fa0b1d9-7da1-4613-814b-4226e86de6cd",
   "metadata": {},
   "outputs": [],
   "source": [
    "y_pred = lr.predict(x_test_scaled)"
   ]
  },
  {
   "cell_type": "code",
   "execution_count": null,
   "id": "6c568d20-131f-43ad-97ff-40024e0fd352",
   "metadata": {},
   "outputs": [],
   "source": [
    "mean_squared_error(y_test, y_pred)"
   ]
  },
  {
   "cell_type": "code",
   "execution_count": null,
   "id": "9299b408-e562-4587-afb6-9e47f2f0005c",
   "metadata": {},
   "outputs": [],
   "source": [
    "from sklearn.ensemble import RandomForestRegressor"
   ]
  },
  {
   "cell_type": "code",
   "execution_count": null,
   "id": "5fb6d6a0-a500-4df8-8e73-d0eff6842eac",
   "metadata": {},
   "outputs": [],
   "source": [
    "rfr = RandomForestRegressor(n_estimators=200)"
   ]
  },
  {
   "cell_type": "code",
   "execution_count": null,
   "id": "2f77bec3-5309-4843-b4ae-042890cd8b3b",
   "metadata": {},
   "outputs": [],
   "source": [
    "rfr.fit(x_train,y_train)"
   ]
  },
  {
   "cell_type": "code",
   "execution_count": null,
   "id": "646e009a-6c2e-44e9-a9e0-deeacf0f55ce",
   "metadata": {},
   "outputs": [],
   "source": [
    "y_pred = rfr.predict(x_test)"
   ]
  },
  {
   "cell_type": "code",
   "execution_count": null,
   "id": "cbfa01f2-cec5-43ae-80ba-d66f3da12a29",
   "metadata": {},
   "outputs": [],
   "source": [
    "# train_mse = mean_squared_error(y_train, y_pred)\n",
    "test_mse = mean_squared_error(y_test, y_pred)\n",
    "# train_r2 = r2_score(y_train, y_pred_train)\n",
    "test_r2 = r2_score(y_test, y_pred)"
   ]
  },
  {
   "cell_type": "code",
   "execution_count": null,
   "id": "8b1906b6-bbf0-480d-8684-6cf2bbd8339b",
   "metadata": {},
   "outputs": [],
   "source": [
    "print(\"Model Performance:\")\n",
    "# print(f\"Training MSE: {train_mse:.4f}, R²: {train_r2:.4f}\")\n",
    "print(f\"Test MSE: {test_mse:.4f}, R²: {test_r2:.4f}\")"
   ]
  },
  {
   "cell_type": "code",
   "execution_count": null,
   "id": "137f10c2-71aa-4618-8651-082919f11119",
   "metadata": {},
   "outputs": [],
   "source": [
    "xgb_r = xgb.XGBRegressor(n_estimator=200,reg_lambda=0.8,reg_alpha=0.7,learning_rate=0.2,enable_global_explain=True)"
   ]
  },
  {
   "cell_type": "code",
   "execution_count": null,
   "id": "5d92625f-8435-4f77-9379-d3ffabd986ee",
   "metadata": {},
   "outputs": [],
   "source": [
    "xgb_r.fit(x_train,y_train)"
   ]
  },
  {
   "cell_type": "code",
   "execution_count": null,
   "id": "cc1b9603-79cf-42b8-8431-cfe215759b51",
   "metadata": {},
   "outputs": [],
   "source": [
    "y_pred_on_x = xgb_r.predict(x_train)\n",
    "y_pred = xgb_r.predict(x_test)"
   ]
  },
  {
   "cell_type": "code",
   "execution_count": null,
   "id": "b6e7d4e7-24dd-4dac-9442-2f91847f3f47",
   "metadata": {},
   "outputs": [],
   "source": [
    "train_mse = mean_squared_error(y_train, y_pred_on_x)\n",
    "test_mse = mean_squared_error(y_test, y_pred)\n",
    "train_r2 = r2_score(y_train, y_pred_on_x)\n",
    "test_r2 = r2_score(y_test, y_pred)"
   ]
  },
  {
   "cell_type": "code",
   "execution_count": null,
   "id": "42bc2435-d422-4bd9-be51-79f47643b27a",
   "metadata": {},
   "outputs": [],
   "source": [
    "print(\"Model Performance:\")\n",
    "print(f\"Training MSE: {train_mse:.4f}, R²: {train_r2:.4f}\")\n",
    "print(f\"Test MSE: {test_mse:.4f}, R²: {test_r2:.4f}\")"
   ]
  },
  {
   "cell_type": "code",
   "execution_count": null,
   "id": "f421db8b-f31c-4676-8c76-c5464efcc8d9",
   "metadata": {},
   "outputs": [],
   "source": []
  },
  {
   "cell_type": "code",
   "execution_count": null,
   "id": "ef8056c9-74d7-466b-9972-3bb93484ec98",
   "metadata": {},
   "outputs": [],
   "source": [
    "# Get unique class labels\n",
    "labels = sorted(np.unique(y_test))\n",
    "\n",
    "# Create the confusion matrix\n",
    "cm = confusion_matrix(y_test, y_pred, labels=labels)\n",
    "\n",
    "# Plot the confusion matrix using ConfusionMatrixDisplay\n",
    "disp = ConfusionMatrixDisplay(confusion_matrix=cm, display_labels=labels)\n",
    "disp.plot(cmap=plt.cm.Blues, values_format='d')\n",
    "plt.title('Confusion Matrix')\n",
    "plt.show()\n"
   ]
  },
  {
   "cell_type": "code",
   "execution_count": null,
   "id": "c4794d4b-a4cb-4d68-9a37-994052c846c8",
   "metadata": {},
   "outputs": [],
   "source": []
  },
  {
   "cell_type": "code",
   "execution_count": null,
   "id": "e2d43f39-a792-4314-ba59-8c3c97c8fc89",
   "metadata": {},
   "outputs": [],
   "source": [
    "# Define the filename for the model\n",
    "xg_boost = 'xgb_c.pkl'\n",
    "\n",
    "# Use pickle to dump the trained model object into a file\n",
    "with open(xg_boost, 'wb') as file:\n",
    "    pickle.dump(xgb_c, file)\n",
    "\n",
    "print(f\"Model successfully saved as '{xg_boost}'\")"
   ]
  },
  {
   "cell_type": "code",
   "execution_count": 121,
   "id": "8d1b0f23-fd6d-4c98-9df6-f84b543ecfd6",
   "metadata": {},
   "outputs": [
    {
     "data": {
      "text/plain": [
       "np.int64(1)"
      ]
     },
     "execution_count": 121,
     "metadata": {},
     "output_type": "execute_result"
    }
   ],
   "source": []
  },
  {
   "cell_type": "code",
   "execution_count": null,
   "id": "ece3d514-1732-44ff-9608-d8dfd596222b",
   "metadata": {},
   "outputs": [],
   "source": []
  }
 ],
 "metadata": {
  "kernelspec": {
   "display_name": "web_scraping",
   "language": "python",
   "name": "web_scraping"
  },
  "language_info": {
   "codemirror_mode": {
    "name": "ipython",
    "version": 3
   },
   "file_extension": ".py",
   "mimetype": "text/x-python",
   "name": "python",
   "nbconvert_exporter": "python",
   "pygments_lexer": "ipython3",
   "version": "3.13.2"
  }
 },
 "nbformat": 4,
 "nbformat_minor": 5
}
